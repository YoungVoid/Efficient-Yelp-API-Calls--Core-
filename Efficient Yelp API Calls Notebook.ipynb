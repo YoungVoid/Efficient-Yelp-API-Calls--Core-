{
 "cells": [
  {
   "cell_type": "markdown",
   "id": "5e6f9063-4539-4a58-8351-c1dc9cf6755b",
   "metadata": {},
   "source": [
    "# Efficient Yelp API Calls (Core)\n",
    "Student Name: Nian"
   ]
  },
  {
   "cell_type": "code",
   "execution_count": 1,
   "id": "e7421686-c536-4fe2-b9a7-20a492b6cc43",
   "metadata": {},
   "outputs": [],
   "source": [
    "# Imports\n",
    "import numpy as np\n",
    "import pandas as pd\n",
    "import os, json, math, time\n",
    "from yelpapi import YelpAPI\n",
    "from tqdm.notebook import tqdm_notebook"
   ]
  },
  {
   "cell_type": "code",
   "execution_count": 2,
   "id": "d0173cfb-c1fa-4609-a6ef-fe90f8dcdb65",
   "metadata": {},
   "outputs": [],
   "source": [
    "# Key Variables\n",
    "# Change these to control the program\n",
    "secret_file = '/Users/nianv/.secret/yelp_api.json' # Yelp API Kyes\n",
    "json_file = 'Data/results_workfile.json' # Workfile for results of search\n",
    "output_csv = 'Data/results.csv' # CSV File to save results in\n",
    "overwrite_workfile = True # Overwrite Workfile if exists?\n",
    "location = 'NY,NY' # Search location\n",
    "search_term = 'hot dogs' # Search term\n",
    "api_limit = 1000 # Yelp API Limit"
   ]
  },
  {
   "cell_type": "code",
   "execution_count": 3,
   "id": "132afcca-5177-4573-94ad-6993126b79c8",
   "metadata": {},
   "outputs": [],
   "source": [
    "def json_load(file=json_file):\n",
    "    with open(file, 'r') as f:\n",
    "        return json.load(f)\n",
    "\n",
    "def json_dump(file=json_file, dump_content=[]):\n",
    "    with open(file, 'w') as f:\n",
    "        json.dump(dump_content, f)"
   ]
  },
  {
   "cell_type": "code",
   "execution_count": 4,
   "id": "d7737b71-caa1-4d1d-923d-1d99a7b001e8",
   "metadata": {},
   "outputs": [],
   "source": [
    "with open(secret_file) as f:\n",
    "    login = json.load(f)\n",
    "\n",
    "yelp_api = YelpAPI(login['api-key'], timeout_s=5.0)"
   ]
  },
  {
   "cell_type": "code",
   "execution_count": 5,
   "id": "2683bff0-f4f9-4efc-bd30-b235f7fb71f5",
   "metadata": {},
   "outputs": [
    {
     "name": "stdout",
     "output_type": "stream",
     "text": [
      "[i] Existing file Data/results_workfile.json found. File Overwritten.\n"
     ]
    }
   ],
   "source": [
    "file_exists = os.path.isfile(json_file)\n",
    "\n",
    "if not file_exists:\n",
    "    folder = os.path.dirname(json_file)\n",
    "    if len(folder) > 0:\n",
    "        os.makedirs(folder, exist_ok=True)\n",
    "\n",
    "    print(f'[i] {json_file} not found. Saving empty list to file.')\n",
    "\n",
    "    json_dump(json_file, [])\n",
    "else:\n",
    "    if overwrite_workfile == True:\n",
    "        json_dump(json_file, [])\n",
    "        print(f'[i] Existing file {json_file} found. File Overwritten.')\n",
    "    else:\n",
    "        print(f'[i] Existing file {json_file} found. File not Overwritten.')"
   ]
  },
  {
   "cell_type": "code",
   "execution_count": 6,
   "id": "79547d9a-8384-4b6f-b98f-cc31d9f6096e",
   "metadata": {},
   "outputs": [
    {
     "name": "stdout",
     "output_type": "stream",
     "text": [
      "[i] 0 previous results found.\n"
     ]
    }
   ],
   "source": [
    "previous_results = json_load(json_file)\n",
    "\n",
    "n_results = len(previous_results)\n",
    "print(f'[i] {n_results} previous results found.')"
   ]
  },
  {
   "cell_type": "code",
   "execution_count": 7,
   "id": "67726e39-4c5a-45cf-9cb3-130a2dd0bf64",
   "metadata": {},
   "outputs": [
    {
     "data": {
      "text/plain": [
       "dict_keys(['businesses', 'total', 'region'])"
      ]
     },
     "execution_count": 7,
     "metadata": {},
     "output_type": "execute_result"
    }
   ],
   "source": [
    "results = yelp_api.search_query(location=location, term=search_term, offset=n_results)\n",
    "results.keys()"
   ]
  },
  {
   "cell_type": "code",
   "execution_count": 8,
   "id": "a9f6d584-93b3-4190-bb21-a4fc4337a9a7",
   "metadata": {},
   "outputs": [],
   "source": [
    "previous_results.extend(results['businesses'])\n",
    "json_dump(json_file, previous_results)"
   ]
  },
  {
   "cell_type": "code",
   "execution_count": 9,
   "id": "7f141cd5-bb5c-45f5-b00f-fec70715576f",
   "metadata": {},
   "outputs": [
    {
     "name": "stdout",
     "output_type": "stream",
     "text": [
      "[i] Total Results: 4100\n",
      "[i] Results per Page: 20\n"
     ]
    }
   ],
   "source": [
    "results_per_page = len(results['businesses'])\n",
    "print(f\"[i] Total Results: {results['total']}\\n[i] Results per Page: {results_per_page}\")"
   ]
  },
  {
   "cell_type": "code",
   "execution_count": 10,
   "id": "82015137-406a-4758-ab86-a28df07c6659",
   "metadata": {},
   "outputs": [
    {
     "name": "stdout",
     "output_type": "stream",
     "text": [
      "[i] Total Results: 4100\n"
     ]
    }
   ],
   "source": [
    "n_pages = math.ceil((results['total']-n_results/results_per_page))\n",
    "print(f'[i] Total Results: {n_pages}')"
   ]
  },
  {
   "cell_type": "code",
   "execution_count": 11,
   "id": "ad63760a-2aae-4062-a237-c89c92b4824c",
   "metadata": {},
   "outputs": [
    {
     "name": "stdout",
     "output_type": "stream",
     "text": [
      "[i] Reducing pages to fetch due to api limit\n",
      "[i] Total Pages of Records: 4100\n",
      "[i] Pages to Retrieve: 50\n"
     ]
    },
    {
     "data": {
      "application/vnd.jupyter.widget-view+json": {
       "model_id": "a53be633c61245bd80903da2daaf4ef8",
       "version_major": 2,
       "version_minor": 0
      },
      "text/plain": [
       "  0%|          | 0/50 [00:00<?, ?it/s]"
      ]
     },
     "metadata": {},
     "output_type": "display_data"
    }
   ],
   "source": [
    "# Get amount of pages that will be retrieved\n",
    "if n_pages * results_per_page <= api_limit:\n",
    "    pages_to_retrieve = n_pages\n",
    "else:\n",
    "    pages_to_retrieve = api_limit // results_per_page\n",
    "    print('[i] Reducing pages to fetch due to api limit')\n",
    "\n",
    "print(f'[i] Total Pages of Records: {n_pages}\\n[i] Pages to Retrieve: {pages_to_retrieve}')\n",
    "\n",
    "# Retrieve all pages, buffer each api call with .2 sec, save to workfile\n",
    "for i in tqdm_notebook(range(0, pages_to_retrieve)):\n",
    "    if i == 0:\n",
    "        continue # Account for previous run\n",
    "        \n",
    "    previous_results = json_load(json_file)\n",
    "\n",
    "    n_results = len(previous_results)\n",
    "\n",
    "    if (n_results + results_per_page) > api_limit:\n",
    "        print(f'Exceeded {api_limit} api calls. Stopping loop')\n",
    "        break\n",
    "    else:\n",
    "        time.sleep(.2)\n",
    "\n",
    "    results = yelp_api.search_query(location=location, term=search_term, offset=n_results)\n",
    "    \n",
    "    previous_results.extend(results['businesses'])\n",
    "    \n",
    "    json_dump(json_file, previous_results)"
   ]
  },
  {
   "cell_type": "code",
   "execution_count": 12,
   "id": "aa357f3f-e580-4867-a200-2c4254ecda7a",
   "metadata": {},
   "outputs": [
    {
     "data": {
      "text/html": [
       "<div>\n",
       "<style scoped>\n",
       "    .dataframe tbody tr th:only-of-type {\n",
       "        vertical-align: middle;\n",
       "    }\n",
       "\n",
       "    .dataframe tbody tr th {\n",
       "        vertical-align: top;\n",
       "    }\n",
       "\n",
       "    .dataframe thead th {\n",
       "        text-align: right;\n",
       "    }\n",
       "</style>\n",
       "<table border=\"1\" class=\"dataframe\">\n",
       "  <thead>\n",
       "    <tr style=\"text-align: right;\">\n",
       "      <th></th>\n",
       "      <th>id</th>\n",
       "      <th>alias</th>\n",
       "      <th>name</th>\n",
       "      <th>image_url</th>\n",
       "      <th>is_closed</th>\n",
       "      <th>url</th>\n",
       "      <th>review_count</th>\n",
       "      <th>categories</th>\n",
       "      <th>rating</th>\n",
       "      <th>coordinates</th>\n",
       "      <th>transactions</th>\n",
       "      <th>price</th>\n",
       "      <th>location</th>\n",
       "      <th>phone</th>\n",
       "      <th>display_phone</th>\n",
       "      <th>distance</th>\n",
       "    </tr>\n",
       "  </thead>\n",
       "  <tbody>\n",
       "    <tr>\n",
       "      <th>0</th>\n",
       "      <td>2n01u4yKfIrWuOzRVvIZmw</td>\n",
       "      <td>crif-dogs-new-york</td>\n",
       "      <td>Crif Dogs</td>\n",
       "      <td>https://s3-media1.fl.yelpcdn.com/bphoto/9wzdpD...</td>\n",
       "      <td>False</td>\n",
       "      <td>https://www.yelp.com/biz/crif-dogs-new-york?ad...</td>\n",
       "      <td>2140</td>\n",
       "      <td>[{'alias': 'hotdog', 'title': 'Hot Dogs'}, {'a...</td>\n",
       "      <td>4.0</td>\n",
       "      <td>{'latitude': 40.72707, 'longitude': -73.98379}</td>\n",
       "      <td>[pickup, delivery]</td>\n",
       "      <td>$</td>\n",
       "      <td>{'address1': '113 Saint Marks Pl', 'address2':...</td>\n",
       "      <td>+16469228524</td>\n",
       "      <td>(646) 922-8524</td>\n",
       "      <td>2567.471632</td>\n",
       "    </tr>\n",
       "    <tr>\n",
       "      <th>1</th>\n",
       "      <td>exkTMrGqV-4j_z0QRVVY7Q</td>\n",
       "      <td>billys-hot-dog-cart-new-york</td>\n",
       "      <td>Billy's Hot Dog Cart</td>\n",
       "      <td>https://s3-media3.fl.yelpcdn.com/bphoto/zP-jch...</td>\n",
       "      <td>False</td>\n",
       "      <td>https://www.yelp.com/biz/billys-hot-dog-cart-n...</td>\n",
       "      <td>78</td>\n",
       "      <td>[{'alias': 'foodstands', 'title': 'Food Stands...</td>\n",
       "      <td>5.0</td>\n",
       "      <td>{'latitude': 40.789695, 'longitude': -73.966125}</td>\n",
       "      <td>[]</td>\n",
       "      <td>$</td>\n",
       "      <td>{'address1': '327 Central Park West', 'address...</td>\n",
       "      <td></td>\n",
       "      <td></td>\n",
       "      <td>9660.221018</td>\n",
       "    </tr>\n",
       "    <tr>\n",
       "      <th>2</th>\n",
       "      <td>477o_-7VmcnTokazWtEa0A</td>\n",
       "      <td>grays-papaya-new-york</td>\n",
       "      <td>Gray's Papaya</td>\n",
       "      <td>https://s3-media3.fl.yelpcdn.com/bphoto/zF4W7-...</td>\n",
       "      <td>False</td>\n",
       "      <td>https://www.yelp.com/biz/grays-papaya-new-york...</td>\n",
       "      <td>1529</td>\n",
       "      <td>[{'alias': 'hotdog', 'title': 'Hot Dogs'}, {'a...</td>\n",
       "      <td>3.5</td>\n",
       "      <td>{'latitude': 40.7783783121866, 'longitude': -7...</td>\n",
       "      <td>[pickup, delivery]</td>\n",
       "      <td>$</td>\n",
       "      <td>{'address1': '2090 Broadway', 'address2': None...</td>\n",
       "      <td>+12127990243</td>\n",
       "      <td>(212) 799-0243</td>\n",
       "      <td>8180.482318</td>\n",
       "    </tr>\n",
       "    <tr>\n",
       "      <th>3</th>\n",
       "      <td>EL5SxC51am9wSTKN0xtCyQ</td>\n",
       "      <td>glizzys-nyc-brooklyn</td>\n",
       "      <td>Glizzy's NYC</td>\n",
       "      <td>https://s3-media1.fl.yelpcdn.com/bphoto/fX2w9v...</td>\n",
       "      <td>False</td>\n",
       "      <td>https://www.yelp.com/biz/glizzys-nyc-brooklyn?...</td>\n",
       "      <td>12</td>\n",
       "      <td>[{'alias': 'comfortfood', 'title': 'Comfort Fo...</td>\n",
       "      <td>4.0</td>\n",
       "      <td>{'latitude': 40.713908, 'longitude': -73.955302}</td>\n",
       "      <td>[pickup, delivery]</td>\n",
       "      <td>NaN</td>\n",
       "      <td>{'address1': '390 Metropolitan Ave', 'address2...</td>\n",
       "      <td></td>\n",
       "      <td></td>\n",
       "      <td>3411.679721</td>\n",
       "    </tr>\n",
       "    <tr>\n",
       "      <th>4</th>\n",
       "      <td>ydYyMb4mmnJ0--4ZE_MsjA</td>\n",
       "      <td>dog-day-afternoon-brooklyn</td>\n",
       "      <td>Dog Day Afternoon</td>\n",
       "      <td>https://s3-media3.fl.yelpcdn.com/bphoto/HS77fR...</td>\n",
       "      <td>False</td>\n",
       "      <td>https://www.yelp.com/biz/dog-day-afternoon-bro...</td>\n",
       "      <td>69</td>\n",
       "      <td>[{'alias': 'hotdog', 'title': 'Hot Dogs'}]</td>\n",
       "      <td>4.5</td>\n",
       "      <td>{'latitude': 40.6586, 'longitude': -73.98213}</td>\n",
       "      <td>[pickup, delivery]</td>\n",
       "      <td>$</td>\n",
       "      <td>{'address1': '266 Prospect Park W', 'address2'...</td>\n",
       "      <td></td>\n",
       "      <td></td>\n",
       "      <td>5304.288793</td>\n",
       "    </tr>\n",
       "    <tr>\n",
       "      <th>...</th>\n",
       "      <td>...</td>\n",
       "      <td>...</td>\n",
       "      <td>...</td>\n",
       "      <td>...</td>\n",
       "      <td>...</td>\n",
       "      <td>...</td>\n",
       "      <td>...</td>\n",
       "      <td>...</td>\n",
       "      <td>...</td>\n",
       "      <td>...</td>\n",
       "      <td>...</td>\n",
       "      <td>...</td>\n",
       "      <td>...</td>\n",
       "      <td>...</td>\n",
       "      <td>...</td>\n",
       "      <td>...</td>\n",
       "    </tr>\n",
       "    <tr>\n",
       "      <th>995</th>\n",
       "      <td>cRwpZQaoaPsdG2tAYY7-8Q</td>\n",
       "      <td>mango-and-bananas-cafe-west-new-york</td>\n",
       "      <td>Mango &amp; Bananas Cafe</td>\n",
       "      <td>https://s3-media4.fl.yelpcdn.com/bphoto/LIhnGn...</td>\n",
       "      <td>False</td>\n",
       "      <td>https://www.yelp.com/biz/mango-and-bananas-caf...</td>\n",
       "      <td>10</td>\n",
       "      <td>[{'alias': 'hotdogs', 'title': 'Fast Food'}, {...</td>\n",
       "      <td>3.0</td>\n",
       "      <td>{'latitude': 40.7824911767414, 'longitude': -7...</td>\n",
       "      <td>[delivery, pickup]</td>\n",
       "      <td>NaN</td>\n",
       "      <td>{'address1': '4909 Bergenline Ave', 'address2'...</td>\n",
       "      <td>+12014304865</td>\n",
       "      <td>(201) 430-4865</td>\n",
       "      <td>8866.985000</td>\n",
       "    </tr>\n",
       "    <tr>\n",
       "      <th>996</th>\n",
       "      <td>h0BOGvJ-C4FdnsrBXbIj3A</td>\n",
       "      <td>au-jus-new-york-8</td>\n",
       "      <td>Au Jus</td>\n",
       "      <td>https://s3-media1.fl.yelpcdn.com/bphoto/wiOP_v...</td>\n",
       "      <td>False</td>\n",
       "      <td>https://www.yelp.com/biz/au-jus-new-york-8?adj...</td>\n",
       "      <td>56</td>\n",
       "      <td>[{'alias': 'bbq', 'title': 'Barbeque'}, {'alia...</td>\n",
       "      <td>4.0</td>\n",
       "      <td>{'latitude': 40.788558, 'longitude': -73.948589}</td>\n",
       "      <td>[pickup, delivery]</td>\n",
       "      <td>$</td>\n",
       "      <td>{'address1': '1569 Lexington Ave', 'address2':...</td>\n",
       "      <td>+12123607200</td>\n",
       "      <td>(212) 360-7200</td>\n",
       "      <td>10012.546097</td>\n",
       "    </tr>\n",
       "    <tr>\n",
       "      <th>997</th>\n",
       "      <td>bxJh48jROb-KKy9rPUrHjQ</td>\n",
       "      <td>eating-tree-bronx</td>\n",
       "      <td>Eating Tree</td>\n",
       "      <td>https://s3-media2.fl.yelpcdn.com/bphoto/C9BlNi...</td>\n",
       "      <td>False</td>\n",
       "      <td>https://www.yelp.com/biz/eating-tree-bronx?adj...</td>\n",
       "      <td>148</td>\n",
       "      <td>[{'alias': 'caribbean', 'title': 'Caribbean'}]</td>\n",
       "      <td>3.5</td>\n",
       "      <td>{'latitude': 40.8281599, 'longitude': -73.92442}</td>\n",
       "      <td>[delivery, pickup]</td>\n",
       "      <td>$</td>\n",
       "      <td>{'address1': '892 Gerard Ave', 'address2': '',...</td>\n",
       "      <td>+17182935025</td>\n",
       "      <td>(718) 293-5025</td>\n",
       "      <td>14857.125707</td>\n",
       "    </tr>\n",
       "    <tr>\n",
       "      <th>998</th>\n",
       "      <td>5VMaxD9JBGZTqacKU6yCSw</td>\n",
       "      <td>peter-luger-steak-house-great-neck-2</td>\n",
       "      <td>Peter Luger Steak House</td>\n",
       "      <td>https://s3-media4.fl.yelpcdn.com/bphoto/axmRpo...</td>\n",
       "      <td>False</td>\n",
       "      <td>https://www.yelp.com/biz/peter-luger-steak-hou...</td>\n",
       "      <td>1433</td>\n",
       "      <td>[{'alias': 'steak', 'title': 'Steakhouses'}]</td>\n",
       "      <td>4.0</td>\n",
       "      <td>{'latitude': 40.777507, 'longitude': -73.727721}</td>\n",
       "      <td>[delivery]</td>\n",
       "      <td>$$$$</td>\n",
       "      <td>{'address1': '255 Northern Blvd', 'address2': ...</td>\n",
       "      <td>+15164878800</td>\n",
       "      <td>(516) 487-8800</td>\n",
       "      <td>23848.397613</td>\n",
       "    </tr>\n",
       "    <tr>\n",
       "      <th>999</th>\n",
       "      <td>TWI3efEcCVsTErKFWz4Zqg</td>\n",
       "      <td>nom-wah-nolita-new-york</td>\n",
       "      <td>Nom Wah Nolita</td>\n",
       "      <td>https://s3-media3.fl.yelpcdn.com/bphoto/VOfL5R...</td>\n",
       "      <td>False</td>\n",
       "      <td>https://www.yelp.com/biz/nom-wah-nolita-new-yo...</td>\n",
       "      <td>242</td>\n",
       "      <td>[{'alias': 'dimsum', 'title': 'Dim Sum'}, {'al...</td>\n",
       "      <td>3.5</td>\n",
       "      <td>{'latitude': 40.7204154878855, 'longitude': -7...</td>\n",
       "      <td>[delivery, pickup]</td>\n",
       "      <td>$$</td>\n",
       "      <td>{'address1': '10 Kenmare St', 'address2': None...</td>\n",
       "      <td>+16464788242</td>\n",
       "      <td>(646) 478-8242</td>\n",
       "      <td>1652.183530</td>\n",
       "    </tr>\n",
       "  </tbody>\n",
       "</table>\n",
       "<p>1000 rows × 16 columns</p>\n",
       "</div>"
      ],
      "text/plain": [
       "                         id                                 alias  \\\n",
       "0    2n01u4yKfIrWuOzRVvIZmw                    crif-dogs-new-york   \n",
       "1    exkTMrGqV-4j_z0QRVVY7Q          billys-hot-dog-cart-new-york   \n",
       "2    477o_-7VmcnTokazWtEa0A                 grays-papaya-new-york   \n",
       "3    EL5SxC51am9wSTKN0xtCyQ                  glizzys-nyc-brooklyn   \n",
       "4    ydYyMb4mmnJ0--4ZE_MsjA            dog-day-afternoon-brooklyn   \n",
       "..                      ...                                   ...   \n",
       "995  cRwpZQaoaPsdG2tAYY7-8Q  mango-and-bananas-cafe-west-new-york   \n",
       "996  h0BOGvJ-C4FdnsrBXbIj3A                     au-jus-new-york-8   \n",
       "997  bxJh48jROb-KKy9rPUrHjQ                     eating-tree-bronx   \n",
       "998  5VMaxD9JBGZTqacKU6yCSw  peter-luger-steak-house-great-neck-2   \n",
       "999  TWI3efEcCVsTErKFWz4Zqg               nom-wah-nolita-new-york   \n",
       "\n",
       "                        name  \\\n",
       "0                  Crif Dogs   \n",
       "1       Billy's Hot Dog Cart   \n",
       "2              Gray's Papaya   \n",
       "3               Glizzy's NYC   \n",
       "4          Dog Day Afternoon   \n",
       "..                       ...   \n",
       "995     Mango & Bananas Cafe   \n",
       "996                   Au Jus   \n",
       "997              Eating Tree   \n",
       "998  Peter Luger Steak House   \n",
       "999           Nom Wah Nolita   \n",
       "\n",
       "                                             image_url  is_closed  \\\n",
       "0    https://s3-media1.fl.yelpcdn.com/bphoto/9wzdpD...      False   \n",
       "1    https://s3-media3.fl.yelpcdn.com/bphoto/zP-jch...      False   \n",
       "2    https://s3-media3.fl.yelpcdn.com/bphoto/zF4W7-...      False   \n",
       "3    https://s3-media1.fl.yelpcdn.com/bphoto/fX2w9v...      False   \n",
       "4    https://s3-media3.fl.yelpcdn.com/bphoto/HS77fR...      False   \n",
       "..                                                 ...        ...   \n",
       "995  https://s3-media4.fl.yelpcdn.com/bphoto/LIhnGn...      False   \n",
       "996  https://s3-media1.fl.yelpcdn.com/bphoto/wiOP_v...      False   \n",
       "997  https://s3-media2.fl.yelpcdn.com/bphoto/C9BlNi...      False   \n",
       "998  https://s3-media4.fl.yelpcdn.com/bphoto/axmRpo...      False   \n",
       "999  https://s3-media3.fl.yelpcdn.com/bphoto/VOfL5R...      False   \n",
       "\n",
       "                                                   url  review_count  \\\n",
       "0    https://www.yelp.com/biz/crif-dogs-new-york?ad...          2140   \n",
       "1    https://www.yelp.com/biz/billys-hot-dog-cart-n...            78   \n",
       "2    https://www.yelp.com/biz/grays-papaya-new-york...          1529   \n",
       "3    https://www.yelp.com/biz/glizzys-nyc-brooklyn?...            12   \n",
       "4    https://www.yelp.com/biz/dog-day-afternoon-bro...            69   \n",
       "..                                                 ...           ...   \n",
       "995  https://www.yelp.com/biz/mango-and-bananas-caf...            10   \n",
       "996  https://www.yelp.com/biz/au-jus-new-york-8?adj...            56   \n",
       "997  https://www.yelp.com/biz/eating-tree-bronx?adj...           148   \n",
       "998  https://www.yelp.com/biz/peter-luger-steak-hou...          1433   \n",
       "999  https://www.yelp.com/biz/nom-wah-nolita-new-yo...           242   \n",
       "\n",
       "                                            categories  rating  \\\n",
       "0    [{'alias': 'hotdog', 'title': 'Hot Dogs'}, {'a...     4.0   \n",
       "1    [{'alias': 'foodstands', 'title': 'Food Stands...     5.0   \n",
       "2    [{'alias': 'hotdog', 'title': 'Hot Dogs'}, {'a...     3.5   \n",
       "3    [{'alias': 'comfortfood', 'title': 'Comfort Fo...     4.0   \n",
       "4           [{'alias': 'hotdog', 'title': 'Hot Dogs'}]     4.5   \n",
       "..                                                 ...     ...   \n",
       "995  [{'alias': 'hotdogs', 'title': 'Fast Food'}, {...     3.0   \n",
       "996  [{'alias': 'bbq', 'title': 'Barbeque'}, {'alia...     4.0   \n",
       "997     [{'alias': 'caribbean', 'title': 'Caribbean'}]     3.5   \n",
       "998       [{'alias': 'steak', 'title': 'Steakhouses'}]     4.0   \n",
       "999  [{'alias': 'dimsum', 'title': 'Dim Sum'}, {'al...     3.5   \n",
       "\n",
       "                                           coordinates        transactions  \\\n",
       "0       {'latitude': 40.72707, 'longitude': -73.98379}  [pickup, delivery]   \n",
       "1     {'latitude': 40.789695, 'longitude': -73.966125}                  []   \n",
       "2    {'latitude': 40.7783783121866, 'longitude': -7...  [pickup, delivery]   \n",
       "3     {'latitude': 40.713908, 'longitude': -73.955302}  [pickup, delivery]   \n",
       "4        {'latitude': 40.6586, 'longitude': -73.98213}  [pickup, delivery]   \n",
       "..                                                 ...                 ...   \n",
       "995  {'latitude': 40.7824911767414, 'longitude': -7...  [delivery, pickup]   \n",
       "996   {'latitude': 40.788558, 'longitude': -73.948589}  [pickup, delivery]   \n",
       "997   {'latitude': 40.8281599, 'longitude': -73.92442}  [delivery, pickup]   \n",
       "998   {'latitude': 40.777507, 'longitude': -73.727721}          [delivery]   \n",
       "999  {'latitude': 40.7204154878855, 'longitude': -7...  [delivery, pickup]   \n",
       "\n",
       "    price                                           location         phone  \\\n",
       "0       $  {'address1': '113 Saint Marks Pl', 'address2':...  +16469228524   \n",
       "1       $  {'address1': '327 Central Park West', 'address...                 \n",
       "2       $  {'address1': '2090 Broadway', 'address2': None...  +12127990243   \n",
       "3     NaN  {'address1': '390 Metropolitan Ave', 'address2...                 \n",
       "4       $  {'address1': '266 Prospect Park W', 'address2'...                 \n",
       "..    ...                                                ...           ...   \n",
       "995   NaN  {'address1': '4909 Bergenline Ave', 'address2'...  +12014304865   \n",
       "996     $  {'address1': '1569 Lexington Ave', 'address2':...  +12123607200   \n",
       "997     $  {'address1': '892 Gerard Ave', 'address2': '',...  +17182935025   \n",
       "998  $$$$  {'address1': '255 Northern Blvd', 'address2': ...  +15164878800   \n",
       "999    $$  {'address1': '10 Kenmare St', 'address2': None...  +16464788242   \n",
       "\n",
       "      display_phone      distance  \n",
       "0    (646) 922-8524   2567.471632  \n",
       "1                     9660.221018  \n",
       "2    (212) 799-0243   8180.482318  \n",
       "3                     3411.679721  \n",
       "4                     5304.288793  \n",
       "..              ...           ...  \n",
       "995  (201) 430-4865   8866.985000  \n",
       "996  (212) 360-7200  10012.546097  \n",
       "997  (718) 293-5025  14857.125707  \n",
       "998  (516) 487-8800  23848.397613  \n",
       "999  (646) 478-8242   1652.183530  \n",
       "\n",
       "[1000 rows x 16 columns]"
      ]
     },
     "execution_count": 12,
     "metadata": {},
     "output_type": "execute_result"
    }
   ],
   "source": [
    "results_df = pd.DataFrame(previous_results)\n",
    "results_df.to_csv(output_csv)\n",
    "results_df"
   ]
  }
 ],
 "metadata": {
  "kernelspec": {
   "display_name": "Python 3 (ipykernel)",
   "language": "python",
   "name": "python3"
  },
  "language_info": {
   "codemirror_mode": {
    "name": "ipython",
    "version": 3
   },
   "file_extension": ".py",
   "mimetype": "text/x-python",
   "name": "python",
   "nbconvert_exporter": "python",
   "pygments_lexer": "ipython3",
   "version": "3.10.10"
  },
  "widgets": {
   "application/vnd.jupyter.widget-state+json": {
    "state": {
     "328688b635264c94969ffb7c1baeb0a0": {
      "model_module": "@jupyter-widgets/base",
      "model_module_version": "2.0.0",
      "model_name": "LayoutModel",
      "state": {}
     },
     "55a191b39a864066830c6c7a91c9bb34": {
      "model_module": "@jupyter-widgets/controls",
      "model_module_version": "2.0.0",
      "model_name": "HTMLStyleModel",
      "state": {
       "description_width": "",
       "font_size": null,
       "text_color": null
      }
     },
     "6533cf2340504bbf941a5431c5a3a076": {
      "model_module": "@jupyter-widgets/controls",
      "model_module_version": "2.0.0",
      "model_name": "ProgressStyleModel",
      "state": {
       "description_width": ""
      }
     },
     "997e0162dec5470ba9106a0a71884de5": {
      "model_module": "@jupyter-widgets/controls",
      "model_module_version": "2.0.0",
      "model_name": "HTMLStyleModel",
      "state": {
       "description_width": "",
       "font_size": null,
       "text_color": null
      }
     },
     "a53be633c61245bd80903da2daaf4ef8": {
      "model_module": "@jupyter-widgets/controls",
      "model_module_version": "2.0.0",
      "model_name": "HBoxModel",
      "state": {
       "children": [
        "IPY_MODEL_deb71e39ac7e47a1b5b6a6e5424a7e6f",
        "IPY_MODEL_d39d80b7248e421cbd7d9878156c87e1",
        "IPY_MODEL_eda53eb06511452bb8855b9e480f842e"
       ],
       "layout": "IPY_MODEL_a7a3f240a5454826ab47b97b0192e7d5"
      }
     },
     "a7a3f240a5454826ab47b97b0192e7d5": {
      "model_module": "@jupyter-widgets/base",
      "model_module_version": "2.0.0",
      "model_name": "LayoutModel",
      "state": {}
     },
     "c335edb0373a43adbcf759ed92b4582c": {
      "model_module": "@jupyter-widgets/base",
      "model_module_version": "2.0.0",
      "model_name": "LayoutModel",
      "state": {}
     },
     "d39d80b7248e421cbd7d9878156c87e1": {
      "model_module": "@jupyter-widgets/controls",
      "model_module_version": "2.0.0",
      "model_name": "FloatProgressModel",
      "state": {
       "bar_style": "success",
       "layout": "IPY_MODEL_c335edb0373a43adbcf759ed92b4582c",
       "max": 50,
       "style": "IPY_MODEL_6533cf2340504bbf941a5431c5a3a076",
       "value": 50
      }
     },
     "deb71e39ac7e47a1b5b6a6e5424a7e6f": {
      "model_module": "@jupyter-widgets/controls",
      "model_module_version": "2.0.0",
      "model_name": "HTMLModel",
      "state": {
       "layout": "IPY_MODEL_f44363dccdcb4577939c0d2804b3df78",
       "style": "IPY_MODEL_55a191b39a864066830c6c7a91c9bb34",
       "value": "100%"
      }
     },
     "eda53eb06511452bb8855b9e480f842e": {
      "model_module": "@jupyter-widgets/controls",
      "model_module_version": "2.0.0",
      "model_name": "HTMLModel",
      "state": {
       "layout": "IPY_MODEL_328688b635264c94969ffb7c1baeb0a0",
       "style": "IPY_MODEL_997e0162dec5470ba9106a0a71884de5",
       "value": " 50/50 [01:34&lt;00:00,  2.44s/it]"
      }
     },
     "f44363dccdcb4577939c0d2804b3df78": {
      "model_module": "@jupyter-widgets/base",
      "model_module_version": "2.0.0",
      "model_name": "LayoutModel",
      "state": {}
     }
    },
    "version_major": 2,
    "version_minor": 0
   }
  }
 },
 "nbformat": 4,
 "nbformat_minor": 5
}
